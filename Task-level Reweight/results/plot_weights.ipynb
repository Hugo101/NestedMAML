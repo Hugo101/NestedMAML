{
 "cells": [
  {
   "cell_type": "code",
   "execution_count": 44,
   "metadata": {},
   "outputs": [],
   "source": [
    "import numpy as np\n",
    "import pickle\n",
    "import torch\n",
    "from matplotlib.backends.backend_pdf import PdfPages\n",
    "import matplotlib.pyplot as plt\n",
    "from matplotlib import rc"
   ]
  },
  {
   "cell_type": "code",
   "execution_count": 45,
   "metadata": {},
   "outputs": [],
   "source": [
    "path = 'Documents/meta_results/weights_iterations/'"
   ]
  },
  {
   "cell_type": "code",
   "execution_count": 46,
   "metadata": {},
   "outputs": [],
   "source": [
    "with open(path + file_idx, 'rb') as fi:\n",
    "    ood_idx, id_idx = pickle.load(fi)\n",
    "#     weights = torch.load(fi, map_location=torch.device('cpu'))"
   ]
  },
  {
   "cell_type": "code",
   "execution_count": 47,
   "metadata": {},
   "outputs": [
    {
     "data": {
      "text/plain": [
       "182"
      ]
     },
     "execution_count": 47,
     "metadata": {},
     "output_type": "execute_result"
    }
   ],
   "source": [
    "len(ood_idx)"
   ]
  },
  {
   "cell_type": "code",
   "execution_count": 48,
   "metadata": {},
   "outputs": [
    {
     "data": {
      "text/plain": [
       "18"
      ]
     },
     "execution_count": 48,
     "metadata": {},
     "output_type": "execute_result"
    }
   ],
   "source": [
    "len(id_idx)"
   ]
  },
  {
   "cell_type": "code",
   "execution_count": 68,
   "metadata": {},
   "outputs": [],
   "source": [
    "w_in_list  = []\n",
    "w_ood_list = []\n",
    "\n",
    "for i in range(0, 30001, 100):\n",
    "#     print(i)\n",
    "    file_wt = str(i) + '_iteration_5W3S_svhn_oodRatio_0.3_cluster2weight.pkl'\n",
    "#     file_wt = str(i) + '_iteration_5W5S_svhn_oodRatio_0.3_cluster2weight.pkl'\n",
    "\n",
    "    with open(path+file_wt, 'rb') as fi:\n",
    "        weights = torch.load(fi, map_location='cpu')\n",
    "        weights_id = weights[id_idx].numpy()\n",
    "        weights_ood= weights[ood_idx].numpy()\n",
    "\n",
    "        w_in_list.append(weights_id)\n",
    "        w_ood_list.append(weights_ood)\n",
    "w_in_all = np.mean(w_in_list, axis=1)\n",
    "w_ood_all = np.mean(w_ood_list, axis=1)\n",
    "w_in_all_std = np.std(w_in_list, axis=1)\n",
    "w_ood_all_std = np.std(w_ood_list, axis=1)\n",
    "    \n",
    "#         wt_mean_id = weights_id.mean()\n",
    "#         wt_mean_ood= weights_ood.mean()\n",
    "\n",
    "#         wt_std_id  = weights_id.std()\n",
    "#         wt_std_ood = weights_id.std()\n",
    "\n"
   ]
  },
  {
   "cell_type": "code",
   "execution_count": 59,
   "metadata": {},
   "outputs": [
    {
     "data": {
      "text/plain": [
       "array([0.00505769, 0.00981375, 0.01858943, 0.02271122, 0.0289445 ,\n",
       "       0.03458866, 0.04248215, 0.05648918, 0.08446929, 0.09048296,\n",
       "       0.09774852, 0.10546365, 0.1117163 , 0.11842879, 0.12651964,\n",
       "       0.13129768, 0.13881323, 0.14488426, 0.15291242, 0.16176607,\n",
       "       0.17745219, 0.2009171 , 0.21523267, 0.22782639, 0.35982406,\n",
       "       0.3863238 , 0.41888127, 0.4554694 , 0.48637354, 0.4997115 ,\n",
       "       0.5144549 , 0.5847077 , 0.6667302 , 0.7571119 , 0.839868  ,\n",
       "       0.91799015, 1.0004046 , 1.0883079 , 1.1810048 , 1.2633704 ,\n",
       "       1.3546771 , 1.4196169 , 1.4959368 , 1.5781676 , 1.6505449 ,\n",
       "       1.7116599 , 1.79266   , 1.8840175 , 1.9554666 , 2.012662  ,\n",
       "       2.0770304 , 2.118004  , 2.1569626 , 2.2058194 , 2.2398615 ,\n",
       "       2.2708683 , 2.2978182 , 2.3241038 , 2.3473544 , 2.3684702 ,\n",
       "       2.386569  , 2.4058034 , 2.4255657 , 2.4418793 , 2.4643729 ,\n",
       "       2.4897306 , 2.5076196 , 2.5216613 , 2.5399444 , 2.5680573 ,\n",
       "       2.5806713 , 2.5995493 , 2.637861  , 2.6502085 , 2.6598444 ,\n",
       "       2.66628   , 2.6728797 , 2.685228  , 2.6987405 , 2.7075543 ,\n",
       "       2.715209  , 2.7222426 , 2.7337713 , 2.7450218 , 2.7599952 ,\n",
       "       2.7654142 , 2.7733355 , 2.7783444 , 2.7971888 , 2.800337  ,\n",
       "       2.8080437 , 2.8116634 , 2.818131  , 2.825996  , 2.8311834 ,\n",
       "       2.840186  , 2.8437622 , 2.850907  , 2.8584225 , 2.862453  ,\n",
       "       2.8703163 , 2.8774657 , 2.8868823 , 2.8947256 , 2.9052486 ,\n",
       "       2.9162505 , 2.923662  , 2.9335604 , 2.947301  , 2.9599288 ,\n",
       "       2.968847  , 2.9773788 , 2.9857235 , 2.992653  , 2.9997644 ,\n",
       "       3.0064356 , 3.014873  , 3.0246515 , 3.0353    , 3.0438135 ,\n",
       "       3.0532808 , 3.066657  , 3.0768967 , 3.0879297 , 3.0994606 ,\n",
       "       3.1068296 , 3.1117651 , 3.1190498 , 3.1267297 , 3.134305  ,\n",
       "       3.1412644 , 3.1495726 , 3.1556609 , 3.1609712 , 3.171976  ,\n",
       "       3.1797686 , 3.1907105 , 3.2016506 , 3.2082996 , 3.2149172 ,\n",
       "       3.2204313 , 3.2270117 , 3.2342045 , 3.2401838 , 3.24624   ,\n",
       "       3.2526038 , 3.2571564 , 3.2642422 , 3.2717733 , 3.276041  ,\n",
       "       3.2834682 , 3.2891893 , 3.29465   , 3.3021727 , 3.309048  ,\n",
       "       3.3144433 , 3.3217325 , 3.32741   , 3.3314376 , 3.3380103 ,\n",
       "       3.3467283 , 3.3531907 , 3.3587735 , 3.3641744 , 3.3702435 ,\n",
       "       3.3820727 , 3.386161  , 3.391568  , 3.3982441 , 3.4032903 ,\n",
       "       3.4077196 , 3.41411   , 3.4197981 , 3.4240675 , 3.4304838 ,\n",
       "       3.4347572 , 3.4405973 , 3.4471872 , 3.4498675 , 3.4556627 ,\n",
       "       3.4617896 , 3.47101   , 3.4741538 , 3.4771097 , 3.4985988 ,\n",
       "       3.50111   , 3.5052762 , 3.5079257 , 3.5107722 , 3.514334  ,\n",
       "       3.5175436 , 3.5220203 , 3.5246162 , 3.5278175 , 3.5322018 ,\n",
       "       3.5371668 , 3.5398457 , 3.5452902 , 3.5514758 , 3.5645206 ,\n",
       "       3.567088  , 3.5696173 , 3.5730493 , 3.5787363 , 3.582673  ,\n",
       "       3.5852385 , 3.5900514 , 3.60805   , 3.612222  , 3.6162872 ,\n",
       "       3.6189303 , 3.6211424 , 3.6254284 , 3.628255  , 3.6315053 ,\n",
       "       3.6338835 , 3.6371863 , 3.6415226 , 3.6463614 , 3.6542997 ,\n",
       "       3.6731577 , 3.6767797 , 3.6795223 , 3.6892955 , 3.6938162 ,\n",
       "       3.6974792 , 3.7011762 , 3.7045681 , 3.7071676 , 3.7107136 ,\n",
       "       3.7166727 , 3.727842  , 3.7542522 , 3.7569911 , 3.7599995 ,\n",
       "       3.7630415 , 3.7659175 , 3.7685738 , 3.7713406 , 3.7746696 ,\n",
       "       3.7772777 , 3.7835104 , 3.7901738 , 3.808197  , 3.810416  ,\n",
       "       3.813343  , 3.8199284 , 3.8273952 , 3.8297756 , 3.8396726 ,\n",
       "       3.8435068 , 3.848754  , 3.8537369 , 3.8568738 , 3.8651114 ,\n",
       "       3.8764436 , 3.8790867 , 3.8833973 , 3.8860338 , 3.887553  ,\n",
       "       3.8971198 , 3.9010048 , 3.903395  , 3.9101534 , 3.9139557 ,\n",
       "       3.9182272 , 3.9175398 , 3.919788  , 3.9232397 , 3.9202223 ,\n",
       "       3.9202762 , 3.9216647 , 3.9209683 , 3.9191508 , 3.9147694 ,\n",
       "       3.914216  , 3.905801  , 3.9015682 , 3.901597  , 3.8999863 ,\n",
       "       3.8988118 , 3.8981752 , 3.894254  , 3.894456  , 3.891757  ,\n",
       "       3.8919034 , 3.8932354 , 3.8983138 , 3.9018135 , 3.9018087 ,\n",
       "       3.903996  , 3.9061787 , 3.909709  , 3.9121182 , 3.914214  ,\n",
       "       3.9165518 , 3.9178286 , 3.921246  , 3.9231474 , 3.9251425 ,\n",
       "       3.9278085 ], dtype=float32)"
      ]
     },
     "execution_count": 59,
     "metadata": {},
     "output_type": "execute_result"
    }
   ],
   "source": [
    "w_in_all"
   ]
  },
  {
   "cell_type": "code",
   "execution_count": 60,
   "metadata": {},
   "outputs": [],
   "source": [
    "plt.style.use('seaborn-deep')  # seaborn-whitegrid, ggplot\n",
    "plt.rcParams[\"axes.grid\"] = True\n",
    "plt.rcParams[\"grid.linestyle\"] = (5, 9)\n",
    "plt.rcParams['xtick.direction'] = 'in'\n",
    "plt.rcParams['ytick.direction'] = 'in'"
   ]
  },
  {
   "cell_type": "code",
   "execution_count": 69,
   "metadata": {},
   "outputs": [
    {
     "data": {
      "image/png": "[encoded data removed]",
      "text/plain": [
       "<Figure size 432x288 with 1 Axes>"
      ]
     },
     "metadata": {
      "needs_background": "light"
     },
     "output_type": "display_data"
    }
   ],
   "source": [
    "# title = '5-Way 3-Shot 30% SVHN OOD'\n",
    "xx = range(len(w_ood_all))\n",
    "linewidth_ = 3\n",
    "\n",
    "plt.plot(xx, w_in_all, linewidth=linewidth_, color='royalblue', linestyle='-', marker=',', label='ID-weight', ms=7)\n",
    "plt.plot(xx, w_ood_all, linewidth=linewidth_, color='tomato', linestyle='-', marker=',', label='OOD-weight', ms=7)\n",
    "\n",
    "plt.fill_between(xx, w_in_all - w_in_all_std, w_in_all + w_in_all_std, alpha=0.2, facecolor='royalblue')\n",
    "plt.fill_between(xx, w_ood_all - w_ood_all_std, w_ood_all + w_ood_all_std, alpha=0.2, facecolor='tomato')\n",
    "\n",
    "# plt.title(title, fontsize=20)\n",
    "plt.legend(loc='best', fontsize=15, ncol=1)\n",
    "plt.xlabel('Iteration*100', fontsize=20)\n",
    "plt.ylabel('Weight', fontsize=20)\n",
    "plt.tick_params(labelsize=16)\n",
    "\n",
    "# plt.title(dataset)\n",
    "plt.savefig(\"svhn_5w3s_03.pdf\", dpi=500, bbox_inches='tight')\n",
    "plt.show()"
   ]
  },
  {
   "cell_type": "code",
   "execution_count": null,
   "metadata": {},
   "outputs": [],
   "source": []
  }
 ],
 "metadata": {
  "kernelspec": {
   "display_name": "Python 3",
   "language": "python",
   "name": "python3"
  },
  "language_info": {
   "codemirror_mode": {
    "name": "ipython",
    "version": 3
   },
   "file_extension": ".py",
   "mimetype": "text/x-python",
   "name": "python",
   "nbconvert_exporter": "python",
   "pygments_lexer": "ipython3",
   "version": "3.8.5"
  }
 },
 "nbformat": 4,
 "nbformat_minor": 4
}
